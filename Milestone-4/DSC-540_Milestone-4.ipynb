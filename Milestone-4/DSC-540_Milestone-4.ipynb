{
 "cells": [
  {
   "cell_type": "markdown",
   "id": "d70377a0",
   "metadata": {},
   "source": [
    "## DSC-540 Project Milestone-4\n",
    "## Chitramoy Mukherjee\n",
    "#### Apply 5 transformations to https://api.census.gov/data/2017/ecnclcust"
   ]
  },
  {
   "cell_type": "code",
   "execution_count": 127,
   "id": "ec648b71",
   "metadata": {},
   "outputs": [],
   "source": [
    "# Import modules\n",
    "import matplotlib.pyplot as plt\n",
    "import pandas as pd\n",
    "import os"
   ]
  },
  {
   "cell_type": "code",
   "execution_count": 135,
   "id": "04c24f61",
   "metadata": {},
   "outputs": [
    {
     "name": "stdout",
     "output_type": "stream",
     "text": [
      "['Legal services', 'Alaska', '0400000US02', '00', 'All establishments', 'Establishments subject to federal income tax', 'T', '270019', '5411', '02']\n",
      "['Legal services', 'Alabama', '0400000US01', '00', 'All establishments', 'Establishments subject to federal income tax', 'T', '2759330', '5411', '01']\n",
      "['Legal services', 'Arkansas', '0400000US05', '00', 'All establishments', 'Establishments subject to federal income tax', 'T', '0', '5411', '05']\n",
      "['Legal services', 'Arizona', '0400000US04', '00', 'All establishments', 'Establishments subject to federal income tax', 'T', '3485673', '5411', '04']\n",
      "['Legal services', 'California', '0400000US06', '00', 'All establishments', 'Establishments subject to federal income tax', 'T', '44033660', '5411', '06']\n"
     ]
    }
   ],
   "source": [
    " # Construct the full API link using the API_KEY received through key request\n",
    "    \n",
    "def generate_api_link(api_key, dataset, variables, geography):\n",
    "    base_url = \"https://api.census.gov/data\"\n",
    "    endpoint = f\"{dataset}\"\n",
    "    params = {\n",
    "        \"get\": f\"{variables}\",\n",
    "        \"for\": f\"{geography}\",\n",
    "        \"key\": api_key\n",
    "    }\n",
    "\n",
    "    api_link = f\"{base_url}/{endpoint}?{'&'.join([f'{k}={v}' for k, v in params.items()])}\"\n",
    "\n",
    "    return api_link\n",
    "\n",
    "if __name__ == \"__main__\":\n",
    "    census_api_key = \"6f54e9fd4f7eef82cba525eb1d738c0da4048c66\"\n",
    "    census_dataset = \"2017/ecnclcust\"\n",
    "    census_variables = \"NAICS2017_LABEL,NAME,GEO_ID,TYPOP,TYPOP_LABEL,TAXSTAT_LABEL,TAXSTAT,RCPTOT,NAICS2017,state\"  # Replace with the actual variables you want\n",
    "    census_geography = \"state:*&NAICS2017\"  \n",
    "\n",
    "    api_link = generate_api_link(census_api_key, census_dataset, census_variables, census_geography)\n",
    "\n",
    "    census_data = fetch_census_data(census_api_url)\n",
    "\n",
    "    if census_data:\n",
    "\n",
    "        for record in census_data[1:6]:  # Printing first 5 rows , skipping the header row\n",
    "            print(record)\n",
    "    else:\n",
    "        print(\"No data retrieved.\")"
   ]
  },
  {
   "cell_type": "markdown",
   "id": "a93ac1ab",
   "metadata": {},
   "source": [
    "### Census Data API: Variables in /data/2017/ecnbasic/variables\n",
    "\n",
    "#### NAICS2017_LABEL : Type of Business/Service\n",
    "#### NAME : State Name \n",
    "#### GEO_ID : Geographic identifier code\n",
    "#### TYPOP : Type of operation code\n",
    "#### TYPOP_LABEL : Wholesale Trade\n",
    "#### TAXSTAT_LABEL : Wholesale Trad labels\n",
    "#### TAXSTAT : Tax status code\n",
    "#### RCPTOT : Sales, value of shipments, or revenue \n",
    "#### NAICS2017 : 2017 NAICS code\n",
    "#### state : State code\n",
    "\n",
    "#### Ethical implecations on census API data\n",
    "\n",
    "#### Census data is often used to allocate resources, determine political representation, and make policy decisions. There is an ethical obligation to ensure that the data collection and analysis processes are fair, unbiased, and do not disproportionately disadvantage specific communities or demographics.\n",
    "\n",
    "#### Openness and transparency in the data collection and analysis processes are critical. The public should have access to information about how the census is conducted, what data is collected, and how it is used.\n",
    "\n",
    "#### There is an ethical responsibility to collect accurate and reliable data. Inaccurate data can lead to incorrect policy decisions, misallocation of resources, and unfair treatment of certain groups or regions.\n",
    "\n",
    "#### One of the primary ethical considerations is the protection of individual privacy. Census data often includes personal information, and there is a responsibility to ensure that the data is collected, stored, and used in a way that respects individuals' privacy rights."
   ]
  },
  {
   "cell_type": "code",
   "execution_count": 136,
   "id": "473486a2",
   "metadata": {},
   "outputs": [
    {
     "name": "stdout",
     "output_type": "stream",
     "text": [
      "No duplicates found.\n"
     ]
    }
   ],
   "source": [
    "# Find duplicates based on 'NAICS2017_LABEL', 'NAME', 'GEO_ID','CLASSCUST_LABEL','CLASSCUST', 'state' columns\n",
    "\n",
    "def fetch_census_data(api_url):\n",
    "    response = requests.get(api_url)\n",
    "\n",
    "    if response.status_code == 200:\n",
    "        data = response.json()\n",
    "        return data\n",
    "    else:\n",
    "        print(f\"Error: {response.status_code}\")\n",
    "        return None\n",
    "\n",
    "if __name__ == \"__main__\":\n",
    "    census_api_url = \"https://api.census.gov/data/2017/ecnclcust?get=NAICS2017_LABEL,NAME,GEO_ID,TYPOP,TYPOP_LABEL,TAXSTAT_LABEL,TAXSTAT,RCPTOT&for=state:*&NAICS2017=5411&key=6f54e9fd4f7eef82cba525eb1d738c0da4048c66\"\n",
    "\n",
    "    census_data = fetch_census_data(census_api_url)\n",
    "\n",
    "    if census_data:\n",
    "        df = pd.DataFrame(census_data[1:], columns=census_data[0])\n",
    "# Select columns for finding duplicates   \n",
    "        selected_columns = ['NAICS2017_LABEL', 'NAME', 'GEO_ID', 'state'] \n",
    "\n",
    "        \n",
    "        duplicates = df[df.duplicated(subset=selected_columns, keep=False)] # Find and print duplicates\n",
    "        \n",
    "        if not duplicates.empty:\n",
    "            print(\"Duplicate Records:\")\n",
    "            print(duplicates)\n",
    "        else:\n",
    "            print(\"No duplicates found.\")\n",
    "    else:\n",
    "        print(\"No data retrieved.\")\n"
   ]
  },
  {
   "cell_type": "code",
   "execution_count": 137,
   "id": "783f294f",
   "metadata": {},
   "outputs": [
    {
     "name": "stdout",
     "output_type": "stream",
     "text": [
      "Null values in 'NAME': 0\n",
      "Null values in 'state': 0\n"
     ]
    }
   ],
   "source": [
    "# Check for Null value in key fields NAME and state column\n",
    "# Make the API request\n",
    "response = requests.get(url, params=params)\n",
    "\n",
    "# Check if the request was successful (status code 200)\n",
    "if response.status_code == 200:\n",
    "    # Parse the JSON response\n",
    "    data = response.json()\n",
    "\n",
    "    # Create a DataFrame from the API response\n",
    "    df = pd.DataFrame(data[1:], columns=data[0])\n",
    "\n",
    "    # Check for null values in 'NAME' and 'state' columns\n",
    "    null_values_name = df['NAME'].isnull().sum()\n",
    "    null_values_state = df['state'].isnull().sum()\n",
    "\n",
    "    print(f\"Null values in 'NAME': {null_values_name}\")\n",
    "    print(f\"Null values in 'state': {null_values_state}\")\n",
    "\n",
    "else:\n",
    "    print(f\"Error: {response.status_code}\")\n",
    "    print(response.text)\n"
   ]
  },
  {
   "cell_type": "code",
   "execution_count": 138,
   "id": "aa3a7760",
   "metadata": {},
   "outputs": [
    {
     "name": "stdout",
     "output_type": "stream",
     "text": [
      "  NAICS2017_LABEL STATE_NAME       GEO_ID TYPOP         TYPOP_LABEL  \\\n",
      "0  Legal services     Alaska  0400000US02    00  All establishments   \n",
      "1  Legal services     Alaska  0400000US02    00  All establishments   \n",
      "2  Legal services     Alaska  0400000US02    00  All establishments   \n",
      "3  Legal services     Alaska  0400000US02    00  All establishments   \n",
      "4  Legal services     Alaska  0400000US02    00  All establishments   \n",
      "\n",
      "                                  TAXSTAT_LABEL TAXSTAT CLASSCUST  \\\n",
      "0  Establishments subject to federal income tax       T       001   \n",
      "1  Establishments subject to federal income tax       T      5045   \n",
      "2  Establishments subject to federal income tax       T       514   \n",
      "3  Establishments subject to federal income tax       T       515   \n",
      "4  Establishments subject to federal income tax       T       516   \n",
      "\n",
      "                       CLASSCUST_LABEL  RCPTOT NAICS2017 STATE_CD  \n",
      "0              All classes of customer  270019      5411       02  \n",
      "1  Household consumers and individuals       0      5411       02  \n",
      "2             Business firms and farms       0      5411       02  \n",
      "3                   Federal government       0      5411       02  \n",
      "4          State and local governments       0      5411       02  \n"
     ]
    }
   ],
   "source": [
    "# Rename the NAME column as STATE_NAME and state AS STATE_CD and display data\n",
    "# Make the API request\n",
    "response = requests.get(url, params=params)\n",
    "\n",
    "# Check if the request was successful (status code 200)\n",
    "if response.status_code == 200:\n",
    "    # Parse the JSON response\n",
    "    data = response.json()\n",
    "\n",
    "    # Create a DataFrame from the API response\n",
    "    df = pd.DataFrame(data[1:], columns=data[0])\n",
    "\n",
    "    # Handle missing values by dropping rows with missing values\n",
    "    df = df.dropna()\n",
    "\n",
    "    # Rename columns\n",
    "    df = df.rename(columns={'NAME': 'STATE_NAME', 'state': 'STATE_CD'})\n",
    "\n",
    "    # Display the first 100 rows of the transformed DataFrame\n",
    "    print(df.head())\n",
    "\n",
    "else:\n",
    "    print(f\"Error: {response.status_code}\")\n",
    "    print(response.text)\n"
   ]
  },
  {
   "cell_type": "code",
   "execution_count": 139,
   "id": "a0768094",
   "metadata": {},
   "outputs": [
    {
     "name": "stdout",
     "output_type": "stream",
     "text": [
      "Summary Statistics:\n",
      "       TYPOP  TAXSTAT        RCPTOT\n",
      "count  305.0      0.0  3.050000e+02\n",
      "mean     0.0      NaN  9.526400e+05\n",
      "std      0.0      NaN  4.410963e+06\n",
      "min      0.0      NaN  0.000000e+00\n",
      "25%      0.0      NaN  0.000000e+00\n",
      "50%      0.0      NaN  0.000000e+00\n",
      "75%      0.0      NaN  0.000000e+00\n",
      "max      0.0      NaN  4.656130e+07\n"
     ]
    }
   ],
   "source": [
    "# Convert numeric columns to appropriate types\n",
    "\n",
    "# Make the API request\n",
    "response = requests.get(url, params=params)\n",
    "\n",
    "# Create a DataFrame from the API response\n",
    "df = pd.DataFrame(data[1:], columns=data[0])\n",
    "\n",
    "numeric_columns = ['TYPOP', 'TAXSTAT', 'RCPTOT']\n",
    "df[numeric_columns] = df[numeric_columns].apply(pd.to_numeric, errors='coerce')\n",
    "\n",
    "\n",
    "print(\"Summary Statistics:\")# Display summary statistics to identify outliers\n",
    "print(df.describe())\n",
    "\n",
    "  "
   ]
  },
  {
   "cell_type": "code",
   "execution_count": 134,
   "id": "135d251d",
   "metadata": {},
   "outputs": [
    {
     "name": "stdout",
     "output_type": "stream",
     "text": [
      "  NAICS2017_LABEL    NAME       GEO_ID TYPOP         TYPOP_LABEL  \\\n",
      "0  legal services  alaska  0400000US02    00  all establishments   \n",
      "1  legal services  alaska  0400000US02    00  all establishments   \n",
      "2  legal services  alaska  0400000US02    00  all establishments   \n",
      "3  legal services  alaska  0400000US02    00  all establishments   \n",
      "4  legal services  alaska  0400000US02    00  all establishments   \n",
      "\n",
      "                                  TAXSTAT_LABEL TAXSTAT CLASSCUST  \\\n",
      "0  establishments subject to federal income tax       T       001   \n",
      "1  establishments subject to federal income tax       T      5045   \n",
      "2  establishments subject to federal income tax       T       514   \n",
      "3  establishments subject to federal income tax       T       515   \n",
      "4  establishments subject to federal income tax       T       516   \n",
      "\n",
      "                       CLASSCUST_LABEL  RCPTOT NAICS2017 state  \n",
      "0              All classes of customer  270019      5411    02  \n",
      "1  Household consumers and individuals       0      5411    02  \n",
      "2             Business firms and farms       0      5411    02  \n",
      "3                   Federal government       0      5411    02  \n",
      "4          State and local governments       0      5411    02  \n"
     ]
    }
   ],
   "source": [
    "# Make the API request\n",
    "response = requests.get(url, params=params)\n",
    "\n",
    "# Check if the request was successful (status code 200)\n",
    "if response.status_code == 200:\n",
    "    # Parse the JSON response\n",
    "    data = response.json()\n",
    "\n",
    "# Create a DataFrame from the API response\n",
    "    df = pd.DataFrame(data[1:], columns=data[0])\n",
    "\n",
    "# Convert string columns to lowercase for consistency\n",
    "    string_columns = ['NAICS2017_LABEL', 'NAME', 'TYPOP_LABEL', 'TAXSTAT_LABEL']\n",
    "    df[string_columns] = df[string_columns].apply(lambda x: x.str.lower())\n",
    "\n",
    "# Display the first few records of the DataFrame\n",
    "    print(df.head())\n",
    "\n",
    "else:\n",
    "    print(f\"Error: {response.status_code}\")\n",
    "    print(response.text)\n"
   ]
  }
 ],
 "metadata": {
  "kernelspec": {
   "display_name": "Python 3 (ipykernel)",
   "language": "python",
   "name": "python3"
  },
  "language_info": {
   "codemirror_mode": {
    "name": "ipython",
    "version": 3
   },
   "file_extension": ".py",
   "mimetype": "text/x-python",
   "name": "python",
   "nbconvert_exporter": "python",
   "pygments_lexer": "ipython3",
   "version": "3.9.13"
  }
 },
 "nbformat": 4,
 "nbformat_minor": 5
}
