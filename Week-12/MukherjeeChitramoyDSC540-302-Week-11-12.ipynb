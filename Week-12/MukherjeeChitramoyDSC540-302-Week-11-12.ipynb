{
 "cells": [
  {
   "cell_type": "markdown",
   "id": "1cc56b3e",
   "metadata": {},
   "source": [
    "##  Chitramoy Mukherjee\n",
    "##  DSC 540-T302\n",
    "##  Week-11 and Week-12\n",
    "##  Date : 11/09/2023"
   ]
  },
  {
   "cell_type": "markdown",
   "id": "09fd1b2f",
   "metadata": {},
   "source": [
    "## Activity - 11\n",
    "\n",
    "### Connect to the supplied petsDB, and write a function to check if the connection is done.\n",
    "### Find different age groups in the persons database.\n",
    "### Find the age group that has maximum number of people.\n",
    "### Find the people who do not have a last name.\n",
    "### Find out how many people have more than one pet\n",
    "### Find out how many pets have received treatement.\n",
    "### Find out how many pets have received treatment and the type of pet is known.\n",
    "### Find how many pets are from city called east port.\n",
    "### Find out how many pets are from the city called east port and who received a treatement."
   ]
  },
  {
   "cell_type": "code",
   "execution_count": 30,
   "id": "be57bf61",
   "metadata": {},
   "outputs": [
    {
     "name": "stdout",
     "output_type": "stream",
     "text": [
      "Connected to the database successfully.\n",
      "Connection closed.\n"
     ]
    }
   ],
   "source": [
    "# Load necessary libraries\n",
    "\n",
    "import sqlite3\n",
    "\n",
    "conn = sqlite3.connect(\"C:\\\\Users\\\\14024\\\\OneDrive\\\\Desktop\\\\MS-DSC\\DSC-540\\Week-12\\\\petsdb\")\n",
    "\n",
    "def connect_to_database(database_path):\n",
    "    try:\n",
    "        # Connect to the SQLite database\n",
    "        connection = sqlite3.connect(database_path)\n",
    "        print(\"Connected to the database successfully.\")\n",
    "        return connection\n",
    "    except sqlite3.Error as e:\n",
    "        print(f\"Error connecting to the database: {e}\")\n",
    "        return None\n",
    "\n",
    "database_path = 'C:\\\\Users\\\\14024\\\\OneDrive\\\\Desktop\\\\MS-DSC\\\\DSC-540\\\\Week-12\\\\petsdb'\n",
    "connection = connect_to_database(database_path)\n",
    "\n",
    "# Check if the connection is successful\n",
    "if connection:\n",
    "# Close the connection when done\n",
    "    connection.close()\n",
    "    print(\"Connection closed.\")\n",
    "else:\n",
    "    print(\"Connection failed.\")\n"
   ]
  },
  {
   "cell_type": "code",
   "execution_count": 31,
   "id": "a089ff35",
   "metadata": {},
   "outputs": [
    {
     "name": "stdout",
     "output_type": "stream",
     "text": [
      "Connection closed Cannot operate on a closed database.\n",
      "False\n"
     ]
    }
   ],
   "source": [
    "print(is_opened(connection))"
   ]
  },
  {
   "cell_type": "code",
   "execution_count": 45,
   "id": "7925a7ec",
   "metadata": {},
   "outputs": [
    {
     "name": "stdout",
     "output_type": "stream",
     "text": [
      "Count of people is 3 of age 5 \n",
      "Count of people is 3 of age 6 \n",
      "Count of people is 3 of age 7 \n",
      "Count of people is 3 of age 8 \n",
      "Count of people is 3 of age 9 \n",
      "Count of people is 3 of age 11 \n",
      "Count of people is 3 of age 12 \n",
      "Count of people is 3 of age 13 \n",
      "Count of people is 3 of age 14 \n",
      "Count of people is 3 of age 16 \n",
      "Count of people is 3 of age 17 \n",
      "Count of people is 3 of age 18 \n",
      "Count of people is 3 of age 19 \n",
      "Count of people is 3 of age 22 \n",
      "Count of people is 3 of age 23 \n",
      "Count of people is 3 of age 24 \n",
      "Count of people is 3 of age 25 \n",
      "Count of people is 3 of age 27 \n",
      "Count of people is 3 of age 30 \n",
      "Count of people is 3 of age 31 \n",
      "Count of people is 3 of age 32 \n",
      "Count of people is 3 of age 33 \n",
      "Count of people is 3 of age 34 \n",
      "Count of people is 3 of age 35 \n",
      "Count of people is 3 of age 36 \n",
      "Count of people is 3 of age 37 \n",
      "Count of people is 3 of age 39 \n",
      "Count of people is 3 of age 40 \n",
      "Count of people is 3 of age 42 \n",
      "Count of people is 3 of age 44 \n",
      "Count of people is 3 of age 48 \n",
      "Count of people is 3 of age 49 \n",
      "Count of people is 3 of age 50 \n",
      "Count of people is 3 of age 51 \n",
      "Count of people is 3 of age 52 \n",
      "Count of people is 3 of age 53 \n",
      "Count of people is 3 of age 54 \n",
      "Count of people is 3 of age 58 \n",
      "Count of people is 3 of age 59 \n",
      "Count of people is 3 of age 60 \n",
      "Count of people is 3 of age 61 \n",
      "Count of people is 3 of age 62 \n",
      "Count of people is 3 of age 63 \n",
      "Count of people is 3 of age 65 \n",
      "Count of people is 3 of age 66 \n",
      "Count of people is 3 of age 67 \n",
      "Count of people is 3 of age 68 \n",
      "Count of people is 3 of age 69 \n",
      "Count of people is 3 of age 70 \n",
      "Count of people is 3 of age 71 \n",
      "Count of people is 3 of age 72 \n",
      "Count of people is 3 of age 73 \n",
      "Count of people is 3 of age 74 \n"
     ]
    }
   ],
   "source": [
    "# Find different age groups in the persons database\n",
    "\n",
    "for people, age in c.execute(\"SELECT count(*), age FROM persons GROUP BY age\"):\n",
    "    print(\"Count of people is {} of age {} \".format(ppl, age))"
   ]
  },
  {
   "cell_type": "code",
   "execution_count": 50,
   "id": "3fee0635",
   "metadata": {},
   "outputs": [
    {
     "name": "stdout",
     "output_type": "stream",
     "text": [
      "Highest number of people 5 came from 73 age group\n"
     ]
    }
   ],
   "source": [
    "# Find the age group that has maximum number of people\n",
    "\n",
    "for people, age in c.execute(\"SELECT count(*), age FROM persons GROUP BY age ORDER BY count(*) DESC limit 1\"):\n",
    "    print(\"Highest number of people {} came from {} age group\".format(people, age))\n"
   ]
  },
  {
   "cell_type": "code",
   "execution_count": 52,
   "id": "a748ac14",
   "metadata": {},
   "outputs": [
    {
     "name": "stdout",
     "output_type": "stream",
     "text": [
      "(60,)\n"
     ]
    }
   ],
   "source": [
    "#Find the people who do not have a last name\n",
    "\n",
    "cnt = c.execute(\"SELECT count(*) FROM persons WHERE last_name IS null\")\n",
    "for row in cnt:\n",
    "    print(row)"
   ]
  },
  {
   "cell_type": "code",
   "execution_count": 56,
   "id": "fbeee7d4",
   "metadata": {},
   "outputs": [
    {
     "name": "stdout",
     "output_type": "stream",
     "text": [
      "43 People have more than one pet\n"
     ]
    }
   ],
   "source": [
    "# Find out how many people have more than one pet\n",
    "\n",
    "cnt = c.execute(\"SELECT count(*) FROM (SELECT count(owner_id) FROM pets GROUP BY owner_id HAVING count(owner_id) >1)\")\n",
    "for row in cnt:\n",
    "    print(\"{} People have more than one pet\".format(row[0]))"
   ]
  },
  {
   "cell_type": "code",
   "execution_count": 58,
   "id": "07295267",
   "metadata": {},
   "outputs": [
    {
     "name": "stdout",
     "output_type": "stream",
     "text": [
      "(36,)\n"
     ]
    }
   ],
   "source": [
    "# Find out how many pets have received treatement (treatment_done should have 1)\n",
    "\n",
    "cnt = c.execute(\"SELECT count(*) FROM pets WHERE treatment_done=1\")\n",
    "for row in cnt:\n",
    "    print(row)"
   ]
  },
  {
   "cell_type": "code",
   "execution_count": 60,
   "id": "d81548f5",
   "metadata": {},
   "outputs": [
    {
     "name": "stdout",
     "output_type": "stream",
     "text": [
      "(16,)\n"
     ]
    }
   ],
   "source": [
    "# Find out how many pets have received treatment and the type of pet is known ( treatment_done is 1 and pet_type is Not Null)\n",
    "\n",
    "cnt = c.execute(\"SELECT count(*) FROM pets WHERE treatment_done=1 AND pet_type IS NOT null\")\n",
    "for row in cnt:\n",
    "    print(row)        "
   ]
  },
  {
   "cell_type": "code",
   "execution_count": 61,
   "id": "614a73d4",
   "metadata": {},
   "outputs": [
    {
     "name": "stdout",
     "output_type": "stream",
     "text": [
      "(49,)\n"
     ]
    }
   ],
   "source": [
    "# Find how many pets are from city called east port\n",
    "\n",
    "cnt = c.execute(\"SELECT count(*) FROM pets JOIN persons ON pets.owner_id = persons.id WHERE persons.city='east port'\")\n",
    "for row in cnt:\n",
    "    print(row)"
   ]
  },
  {
   "cell_type": "code",
   "execution_count": 62,
   "id": "d708f7a0",
   "metadata": {},
   "outputs": [
    {
     "name": "stdout",
     "output_type": "stream",
     "text": [
      "(11,)\n"
     ]
    }
   ],
   "source": [
    "# Find out how many pets are from the city called east port and who received a treatement\n",
    "\n",
    "cnt = c.execute(\"SELECT count(*) FROM pets JOIN persons ON pets.owner_id = persons.id WHERE persons.city='east port' AND pets.treatment_done=1\")\n",
    "for row in cnt:\n",
    "    print(row)"
   ]
  }
 ],
 "metadata": {
  "kernelspec": {
   "display_name": "Python 3 (ipykernel)",
   "language": "python",
   "name": "python3"
  },
  "language_info": {
   "codemirror_mode": {
    "name": "ipython",
    "version": 3
   },
   "file_extension": ".py",
   "mimetype": "text/x-python",
   "name": "python",
   "nbconvert_exporter": "python",
   "pygments_lexer": "ipython3",
   "version": "3.9.13"
  }
 },
 "nbformat": 4,
 "nbformat_minor": 5
}
